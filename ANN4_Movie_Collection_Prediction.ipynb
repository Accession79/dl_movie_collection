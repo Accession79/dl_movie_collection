{
  "nbformat": 4,
  "nbformat_minor": 0,
  "metadata": {
    "colab": {
      "name": "ANN4 Movie Collection Prediction.ipynb",
      "provenance": [],
      "collapsed_sections": []
    },
    "kernelspec": {
      "name": "python3",
      "display_name": "Python 3"
    },
    "language_info": {
      "name": "python"
    }
  },
  "cells": [
    {
      "cell_type": "markdown",
      "source": [
        "**0 Importing important libraries**"
      ],
      "metadata": {
        "id": "Vku319AF0JbX"
      }
    },
    {
      "cell_type": "code",
      "execution_count": null,
      "metadata": {
        "id": "l-guUTirMRa9"
      },
      "outputs": [],
      "source": [
        "import numpy as np\n",
        "import pandas as pd\n",
        "%matplotlib inline\n",
        "import matplotlib as mpl\n",
        "import matplotlib.pyplot as plt\n",
        "import pydot"
      ]
    },
    {
      "cell_type": "code",
      "source": [
        "import tensorflow as tf\n",
        "from tensorflow import keras"
      ],
      "metadata": {
        "id": "K9j342L1zx5r"
      },
      "execution_count": null,
      "outputs": []
    },
    {
      "cell_type": "markdown",
      "source": [
        "**1 Import ‘Movie_collection’ csv files in data_x and data_y variables.**"
      ],
      "metadata": {
        "id": "6qtCAoJ70dQW"
      }
    },
    {
      "cell_type": "code",
      "source": [
        "data_x = pd.read_csv(\"Movie_collection_Independent.csv\")\n",
        "data_y = pd.read_csv(\"Movie_collection_Target.csv\")"
      ],
      "metadata": {
        "id": "uqhpm7WezzsM"
      },
      "execution_count": null,
      "outputs": []
    },
    {
      "cell_type": "markdown",
      "source": [
        "**2 Look at the shape and first five rows of both dataframes to understand the data**"
      ],
      "metadata": {
        "id": "ZQ3CPcor1nXl"
      }
    },
    {
      "cell_type": "code",
      "source": [
        "data_x.head()"
      ],
      "metadata": {
        "colab": {
          "base_uri": "https://localhost:8080/",
          "height": 287
        },
        "id": "YtqR2uud1YDb",
        "outputId": "6a010d6c-b0a5-4b5c-d440-8c1b0853d689"
      },
      "execution_count": null,
      "outputs": [
        {
          "output_type": "execute_result",
          "data": {
            "text/plain": [
              "   Marketin_expense  Production_expense  Multiplex_coverage     Budget  \\\n",
              "0           20.1264               59.62               0.462  36524.125   \n",
              "1           20.5462               69.14               0.531  35668.655   \n",
              "2           20.5458               69.14               0.531  39912.675   \n",
              "3           20.6474               59.36               0.542  38873.890   \n",
              "4           21.3810               59.36               0.542  39701.585   \n",
              "\n",
              "   Movie_length  Lead_ Actor_Rating  Lead_Actress_rating  Director_rating  \\\n",
              "0         138.7               7.825                8.095            7.910   \n",
              "1         152.4               7.505                7.650            7.440   \n",
              "2         134.6               7.485                7.570            7.495   \n",
              "3         119.3               6.895                7.035            6.920   \n",
              "4         127.7               6.920                7.070            6.815   \n",
              "\n",
              "   Producer_rating  Critic_rating  Trailer_views  Time_taken  Twitter_hastags  \\\n",
              "0            7.995           7.94         527367      109.60          223.840   \n",
              "1            7.470           7.44         494055      146.64          243.456   \n",
              "2            7.515           7.44         547051      147.88         2022.400   \n",
              "3            7.020           8.26         516279      185.36          225.344   \n",
              "4            7.070           8.26         531448      176.48          225.792   \n",
              "\n",
              "   Avg_age_actors  Num_multiplex  3D_available  Genre_Thriller  Genre_Drama  \\\n",
              "0              23            494             1               1            0   \n",
              "1              42            462             0               0            1   \n",
              "2              38            458             0               0            0   \n",
              "3              45            472             1               0            1   \n",
              "4              55            395             0               0            1   \n",
              "\n",
              "   Genre_Comedy  \n",
              "0             0  \n",
              "1             0  \n",
              "2             1  \n",
              "3             0  \n",
              "4             0  "
            ],
            "text/html": [
              "\n",
              "  <div id=\"df-80f5aa72-ca41-4cda-8181-6940df1bcc4e\">\n",
              "    <div class=\"colab-df-container\">\n",
              "      <div>\n",
              "<style scoped>\n",
              "    .dataframe tbody tr th:only-of-type {\n",
              "        vertical-align: middle;\n",
              "    }\n",
              "\n",
              "    .dataframe tbody tr th {\n",
              "        vertical-align: top;\n",
              "    }\n",
              "\n",
              "    .dataframe thead th {\n",
              "        text-align: right;\n",
              "    }\n",
              "</style>\n",
              "<table border=\"1\" class=\"dataframe\">\n",
              "  <thead>\n",
              "    <tr style=\"text-align: right;\">\n",
              "      <th></th>\n",
              "      <th>Marketin_expense</th>\n",
              "      <th>Production_expense</th>\n",
              "      <th>Multiplex_coverage</th>\n",
              "      <th>Budget</th>\n",
              "      <th>Movie_length</th>\n",
              "      <th>Lead_ Actor_Rating</th>\n",
              "      <th>Lead_Actress_rating</th>\n",
              "      <th>Director_rating</th>\n",
              "      <th>Producer_rating</th>\n",
              "      <th>Critic_rating</th>\n",
              "      <th>Trailer_views</th>\n",
              "      <th>Time_taken</th>\n",
              "      <th>Twitter_hastags</th>\n",
              "      <th>Avg_age_actors</th>\n",
              "      <th>Num_multiplex</th>\n",
              "      <th>3D_available</th>\n",
              "      <th>Genre_Thriller</th>\n",
              "      <th>Genre_Drama</th>\n",
              "      <th>Genre_Comedy</th>\n",
              "    </tr>\n",
              "  </thead>\n",
              "  <tbody>\n",
              "    <tr>\n",
              "      <th>0</th>\n",
              "      <td>20.1264</td>\n",
              "      <td>59.62</td>\n",
              "      <td>0.462</td>\n",
              "      <td>36524.125</td>\n",
              "      <td>138.7</td>\n",
              "      <td>7.825</td>\n",
              "      <td>8.095</td>\n",
              "      <td>7.910</td>\n",
              "      <td>7.995</td>\n",
              "      <td>7.94</td>\n",
              "      <td>527367</td>\n",
              "      <td>109.60</td>\n",
              "      <td>223.840</td>\n",
              "      <td>23</td>\n",
              "      <td>494</td>\n",
              "      <td>1</td>\n",
              "      <td>1</td>\n",
              "      <td>0</td>\n",
              "      <td>0</td>\n",
              "    </tr>\n",
              "    <tr>\n",
              "      <th>1</th>\n",
              "      <td>20.5462</td>\n",
              "      <td>69.14</td>\n",
              "      <td>0.531</td>\n",
              "      <td>35668.655</td>\n",
              "      <td>152.4</td>\n",
              "      <td>7.505</td>\n",
              "      <td>7.650</td>\n",
              "      <td>7.440</td>\n",
              "      <td>7.470</td>\n",
              "      <td>7.44</td>\n",
              "      <td>494055</td>\n",
              "      <td>146.64</td>\n",
              "      <td>243.456</td>\n",
              "      <td>42</td>\n",
              "      <td>462</td>\n",
              "      <td>0</td>\n",
              "      <td>0</td>\n",
              "      <td>1</td>\n",
              "      <td>0</td>\n",
              "    </tr>\n",
              "    <tr>\n",
              "      <th>2</th>\n",
              "      <td>20.5458</td>\n",
              "      <td>69.14</td>\n",
              "      <td>0.531</td>\n",
              "      <td>39912.675</td>\n",
              "      <td>134.6</td>\n",
              "      <td>7.485</td>\n",
              "      <td>7.570</td>\n",
              "      <td>7.495</td>\n",
              "      <td>7.515</td>\n",
              "      <td>7.44</td>\n",
              "      <td>547051</td>\n",
              "      <td>147.88</td>\n",
              "      <td>2022.400</td>\n",
              "      <td>38</td>\n",
              "      <td>458</td>\n",
              "      <td>0</td>\n",
              "      <td>0</td>\n",
              "      <td>0</td>\n",
              "      <td>1</td>\n",
              "    </tr>\n",
              "    <tr>\n",
              "      <th>3</th>\n",
              "      <td>20.6474</td>\n",
              "      <td>59.36</td>\n",
              "      <td>0.542</td>\n",
              "      <td>38873.890</td>\n",
              "      <td>119.3</td>\n",
              "      <td>6.895</td>\n",
              "      <td>7.035</td>\n",
              "      <td>6.920</td>\n",
              "      <td>7.020</td>\n",
              "      <td>8.26</td>\n",
              "      <td>516279</td>\n",
              "      <td>185.36</td>\n",
              "      <td>225.344</td>\n",
              "      <td>45</td>\n",
              "      <td>472</td>\n",
              "      <td>1</td>\n",
              "      <td>0</td>\n",
              "      <td>1</td>\n",
              "      <td>0</td>\n",
              "    </tr>\n",
              "    <tr>\n",
              "      <th>4</th>\n",
              "      <td>21.3810</td>\n",
              "      <td>59.36</td>\n",
              "      <td>0.542</td>\n",
              "      <td>39701.585</td>\n",
              "      <td>127.7</td>\n",
              "      <td>6.920</td>\n",
              "      <td>7.070</td>\n",
              "      <td>6.815</td>\n",
              "      <td>7.070</td>\n",
              "      <td>8.26</td>\n",
              "      <td>531448</td>\n",
              "      <td>176.48</td>\n",
              "      <td>225.792</td>\n",
              "      <td>55</td>\n",
              "      <td>395</td>\n",
              "      <td>0</td>\n",
              "      <td>0</td>\n",
              "      <td>1</td>\n",
              "      <td>0</td>\n",
              "    </tr>\n",
              "  </tbody>\n",
              "</table>\n",
              "</div>\n",
              "      <button class=\"colab-df-convert\" onclick=\"convertToInteractive('df-80f5aa72-ca41-4cda-8181-6940df1bcc4e')\"\n",
              "              title=\"Convert this dataframe to an interactive table.\"\n",
              "              style=\"display:none;\">\n",
              "        \n",
              "  <svg xmlns=\"http://www.w3.org/2000/svg\" height=\"24px\"viewBox=\"0 0 24 24\"\n",
              "       width=\"24px\">\n",
              "    <path d=\"M0 0h24v24H0V0z\" fill=\"none\"/>\n",
              "    <path d=\"M18.56 5.44l.94 2.06.94-2.06 2.06-.94-2.06-.94-.94-2.06-.94 2.06-2.06.94zm-11 1L8.5 8.5l.94-2.06 2.06-.94-2.06-.94L8.5 2.5l-.94 2.06-2.06.94zm10 10l.94 2.06.94-2.06 2.06-.94-2.06-.94-.94-2.06-.94 2.06-2.06.94z\"/><path d=\"M17.41 7.96l-1.37-1.37c-.4-.4-.92-.59-1.43-.59-.52 0-1.04.2-1.43.59L10.3 9.45l-7.72 7.72c-.78.78-.78 2.05 0 2.83L4 21.41c.39.39.9.59 1.41.59.51 0 1.02-.2 1.41-.59l7.78-7.78 2.81-2.81c.8-.78.8-2.07 0-2.86zM5.41 20L4 18.59l7.72-7.72 1.47 1.35L5.41 20z\"/>\n",
              "  </svg>\n",
              "      </button>\n",
              "      \n",
              "  <style>\n",
              "    .colab-df-container {\n",
              "      display:flex;\n",
              "      flex-wrap:wrap;\n",
              "      gap: 12px;\n",
              "    }\n",
              "\n",
              "    .colab-df-convert {\n",
              "      background-color: #E8F0FE;\n",
              "      border: none;\n",
              "      border-radius: 50%;\n",
              "      cursor: pointer;\n",
              "      display: none;\n",
              "      fill: #1967D2;\n",
              "      height: 32px;\n",
              "      padding: 0 0 0 0;\n",
              "      width: 32px;\n",
              "    }\n",
              "\n",
              "    .colab-df-convert:hover {\n",
              "      background-color: #E2EBFA;\n",
              "      box-shadow: 0px 1px 2px rgba(60, 64, 67, 0.3), 0px 1px 3px 1px rgba(60, 64, 67, 0.15);\n",
              "      fill: #174EA6;\n",
              "    }\n",
              "\n",
              "    [theme=dark] .colab-df-convert {\n",
              "      background-color: #3B4455;\n",
              "      fill: #D2E3FC;\n",
              "    }\n",
              "\n",
              "    [theme=dark] .colab-df-convert:hover {\n",
              "      background-color: #434B5C;\n",
              "      box-shadow: 0px 1px 3px 1px rgba(0, 0, 0, 0.15);\n",
              "      filter: drop-shadow(0px 1px 2px rgba(0, 0, 0, 0.3));\n",
              "      fill: #FFFFFF;\n",
              "    }\n",
              "  </style>\n",
              "\n",
              "      <script>\n",
              "        const buttonEl =\n",
              "          document.querySelector('#df-80f5aa72-ca41-4cda-8181-6940df1bcc4e button.colab-df-convert');\n",
              "        buttonEl.style.display =\n",
              "          google.colab.kernel.accessAllowed ? 'block' : 'none';\n",
              "\n",
              "        async function convertToInteractive(key) {\n",
              "          const element = document.querySelector('#df-80f5aa72-ca41-4cda-8181-6940df1bcc4e');\n",
              "          const dataTable =\n",
              "            await google.colab.kernel.invokeFunction('convertToInteractive',\n",
              "                                                     [key], {});\n",
              "          if (!dataTable) return;\n",
              "\n",
              "          const docLinkHtml = 'Like what you see? Visit the ' +\n",
              "            '<a target=\"_blank\" href=https://colab.research.google.com/notebooks/data_table.ipynb>data table notebook</a>'\n",
              "            + ' to learn more about interactive tables.';\n",
              "          element.innerHTML = '';\n",
              "          dataTable['output_type'] = 'display_data';\n",
              "          await google.colab.output.renderOutput(dataTable, element);\n",
              "          const docLink = document.createElement('div');\n",
              "          docLink.innerHTML = docLinkHtml;\n",
              "          element.appendChild(docLink);\n",
              "        }\n",
              "      </script>\n",
              "    </div>\n",
              "  </div>\n",
              "  "
            ]
          },
          "metadata": {},
          "execution_count": 23
        }
      ]
    },
    {
      "cell_type": "code",
      "source": [
        "data_y.head()"
      ],
      "metadata": {
        "colab": {
          "base_uri": "https://localhost:8080/",
          "height": 206
        },
        "id": "UvNQWZ201cBN",
        "outputId": "35319e89-8f93-4141-b9a9-87d9e3a6e706"
      },
      "execution_count": null,
      "outputs": [
        {
          "output_type": "execute_result",
          "data": {
            "text/plain": [
              "   Collection\n",
              "0    2.266667\n",
              "1    2.106667\n",
              "2    2.980000\n",
              "3    2.893333\n",
              "4    3.080000"
            ],
            "text/html": [
              "\n",
              "  <div id=\"df-2e8264f7-736b-49d6-a877-1037cce3e4db\">\n",
              "    <div class=\"colab-df-container\">\n",
              "      <div>\n",
              "<style scoped>\n",
              "    .dataframe tbody tr th:only-of-type {\n",
              "        vertical-align: middle;\n",
              "    }\n",
              "\n",
              "    .dataframe tbody tr th {\n",
              "        vertical-align: top;\n",
              "    }\n",
              "\n",
              "    .dataframe thead th {\n",
              "        text-align: right;\n",
              "    }\n",
              "</style>\n",
              "<table border=\"1\" class=\"dataframe\">\n",
              "  <thead>\n",
              "    <tr style=\"text-align: right;\">\n",
              "      <th></th>\n",
              "      <th>Collection</th>\n",
              "    </tr>\n",
              "  </thead>\n",
              "  <tbody>\n",
              "    <tr>\n",
              "      <th>0</th>\n",
              "      <td>2.266667</td>\n",
              "    </tr>\n",
              "    <tr>\n",
              "      <th>1</th>\n",
              "      <td>2.106667</td>\n",
              "    </tr>\n",
              "    <tr>\n",
              "      <th>2</th>\n",
              "      <td>2.980000</td>\n",
              "    </tr>\n",
              "    <tr>\n",
              "      <th>3</th>\n",
              "      <td>2.893333</td>\n",
              "    </tr>\n",
              "    <tr>\n",
              "      <th>4</th>\n",
              "      <td>3.080000</td>\n",
              "    </tr>\n",
              "  </tbody>\n",
              "</table>\n",
              "</div>\n",
              "      <button class=\"colab-df-convert\" onclick=\"convertToInteractive('df-2e8264f7-736b-49d6-a877-1037cce3e4db')\"\n",
              "              title=\"Convert this dataframe to an interactive table.\"\n",
              "              style=\"display:none;\">\n",
              "        \n",
              "  <svg xmlns=\"http://www.w3.org/2000/svg\" height=\"24px\"viewBox=\"0 0 24 24\"\n",
              "       width=\"24px\">\n",
              "    <path d=\"M0 0h24v24H0V0z\" fill=\"none\"/>\n",
              "    <path d=\"M18.56 5.44l.94 2.06.94-2.06 2.06-.94-2.06-.94-.94-2.06-.94 2.06-2.06.94zm-11 1L8.5 8.5l.94-2.06 2.06-.94-2.06-.94L8.5 2.5l-.94 2.06-2.06.94zm10 10l.94 2.06.94-2.06 2.06-.94-2.06-.94-.94-2.06-.94 2.06-2.06.94z\"/><path d=\"M17.41 7.96l-1.37-1.37c-.4-.4-.92-.59-1.43-.59-.52 0-1.04.2-1.43.59L10.3 9.45l-7.72 7.72c-.78.78-.78 2.05 0 2.83L4 21.41c.39.39.9.59 1.41.59.51 0 1.02-.2 1.41-.59l7.78-7.78 2.81-2.81c.8-.78.8-2.07 0-2.86zM5.41 20L4 18.59l7.72-7.72 1.47 1.35L5.41 20z\"/>\n",
              "  </svg>\n",
              "      </button>\n",
              "      \n",
              "  <style>\n",
              "    .colab-df-container {\n",
              "      display:flex;\n",
              "      flex-wrap:wrap;\n",
              "      gap: 12px;\n",
              "    }\n",
              "\n",
              "    .colab-df-convert {\n",
              "      background-color: #E8F0FE;\n",
              "      border: none;\n",
              "      border-radius: 50%;\n",
              "      cursor: pointer;\n",
              "      display: none;\n",
              "      fill: #1967D2;\n",
              "      height: 32px;\n",
              "      padding: 0 0 0 0;\n",
              "      width: 32px;\n",
              "    }\n",
              "\n",
              "    .colab-df-convert:hover {\n",
              "      background-color: #E2EBFA;\n",
              "      box-shadow: 0px 1px 2px rgba(60, 64, 67, 0.3), 0px 1px 3px 1px rgba(60, 64, 67, 0.15);\n",
              "      fill: #174EA6;\n",
              "    }\n",
              "\n",
              "    [theme=dark] .colab-df-convert {\n",
              "      background-color: #3B4455;\n",
              "      fill: #D2E3FC;\n",
              "    }\n",
              "\n",
              "    [theme=dark] .colab-df-convert:hover {\n",
              "      background-color: #434B5C;\n",
              "      box-shadow: 0px 1px 3px 1px rgba(0, 0, 0, 0.15);\n",
              "      filter: drop-shadow(0px 1px 2px rgba(0, 0, 0, 0.3));\n",
              "      fill: #FFFFFF;\n",
              "    }\n",
              "  </style>\n",
              "\n",
              "      <script>\n",
              "        const buttonEl =\n",
              "          document.querySelector('#df-2e8264f7-736b-49d6-a877-1037cce3e4db button.colab-df-convert');\n",
              "        buttonEl.style.display =\n",
              "          google.colab.kernel.accessAllowed ? 'block' : 'none';\n",
              "\n",
              "        async function convertToInteractive(key) {\n",
              "          const element = document.querySelector('#df-2e8264f7-736b-49d6-a877-1037cce3e4db');\n",
              "          const dataTable =\n",
              "            await google.colab.kernel.invokeFunction('convertToInteractive',\n",
              "                                                     [key], {});\n",
              "          if (!dataTable) return;\n",
              "\n",
              "          const docLinkHtml = 'Like what you see? Visit the ' +\n",
              "            '<a target=\"_blank\" href=https://colab.research.google.com/notebooks/data_table.ipynb>data table notebook</a>'\n",
              "            + ' to learn more about interactive tables.';\n",
              "          element.innerHTML = '';\n",
              "          dataTable['output_type'] = 'display_data';\n",
              "          await google.colab.output.renderOutput(dataTable, element);\n",
              "          const docLink = document.createElement('div');\n",
              "          docLink.innerHTML = docLinkHtml;\n",
              "          element.appendChild(docLink);\n",
              "        }\n",
              "      </script>\n",
              "    </div>\n",
              "  </div>\n",
              "  "
            ]
          },
          "metadata": {},
          "execution_count": 24
        }
      ]
    },
    {
      "cell_type": "code",
      "source": [
        "data_x.shape"
      ],
      "metadata": {
        "colab": {
          "base_uri": "https://localhost:8080/"
        },
        "id": "PmJ-B1Ud014V",
        "outputId": "d5e937ce-8e62-471d-d1ae-f4d1fb7bd58f"
      },
      "execution_count": null,
      "outputs": [
        {
          "output_type": "execute_result",
          "data": {
            "text/plain": [
              "(506, 19)"
            ]
          },
          "metadata": {},
          "execution_count": 25
        }
      ]
    },
    {
      "cell_type": "code",
      "source": [
        "data_y.shape"
      ],
      "metadata": {
        "colab": {
          "base_uri": "https://localhost:8080/"
        },
        "id": "Q_ltnU4k1SlN",
        "outputId": "61c7f7be-7b1f-4876-bbbf-4c557f944f88"
      },
      "execution_count": null,
      "outputs": [
        {
          "output_type": "execute_result",
          "data": {
            "text/plain": [
              "(506, 1)"
            ]
          },
          "metadata": {},
          "execution_count": 26
        }
      ]
    },
    {
      "cell_type": "markdown",
      "source": [
        "**3 Split the data into test, train, and validation**"
      ],
      "metadata": {
        "id": "J9rv7sUw1wT6"
      }
    },
    {
      "cell_type": "code",
      "source": [
        "from sklearn.model_selection import train_test_split\n",
        "\n",
        "# Train:Test :: 75:25 of total dataset\n",
        "train_size=0.75\n",
        "\n",
        "# In the first step we will split the data in training and testing dataset\n",
        "X_train_full, X_test, y_train_full, y_test = train_test_split(data_x,data_y, train_size=0.75)\n",
        "\n",
        "# Train:Valid :: 75:25 of training dataset\n",
        "# we have to define valid_size=0.5 (that is 50% of remaining data)\n",
        "valid_size = 0.25\n",
        "\n",
        "X_valid, X_train, y_valid, y_train = train_test_split(X_train_full, y_train_full, test_size=0.25)"
      ],
      "metadata": {
        "id": "AbJnBzBD4awn"
      },
      "execution_count": null,
      "outputs": []
    },
    {
      "cell_type": "markdown",
      "source": [
        "**4 Take a look at the shape of the test, train, and validation set**"
      ],
      "metadata": {
        "id": "hcZpUfOo3fLZ"
      }
    },
    {
      "cell_type": "code",
      "source": [
        "print(X_train.shape), print(y_train.shape)\n",
        "print(X_valid.shape), print(y_valid.shape)\n",
        "print(X_test.shape), print(y_test.shape)"
      ],
      "metadata": {
        "colab": {
          "base_uri": "https://localhost:8080/"
        },
        "id": "LYkuAPC63c-G",
        "outputId": "34bb8215-6b05-4706-d36a-de550f8168bb"
      },
      "execution_count": null,
      "outputs": [
        {
          "output_type": "stream",
          "name": "stdout",
          "text": [
            "(95, 19)\n",
            "(95, 1)\n",
            "(284, 19)\n",
            "(284, 1)\n",
            "(127, 19)\n",
            "(127, 1)\n"
          ]
        },
        {
          "output_type": "execute_result",
          "data": {
            "text/plain": [
              "(None, None)"
            ]
          },
          "metadata": {},
          "execution_count": 33
        }
      ]
    },
    {
      "cell_type": "markdown",
      "source": [
        "**5 Standardize the data**"
      ],
      "metadata": {
        "id": "iWBIaG_m6-OI"
      }
    },
    {
      "cell_type": "code",
      "source": [
        "from sklearn.preprocessing import StandardScaler # 2nd wala apart from Normalisation\n",
        "scaler = StandardScaler()\n",
        "X_train = scaler.fit_transform(X_train)\n",
        "X_valid = scaler.transform(X_valid)\n",
        "X_test = scaler.transform(X_test)"
      ],
      "metadata": {
        "id": "OcoRkIoa68Nc"
      },
      "execution_count": null,
      "outputs": []
    },
    {
      "cell_type": "markdown",
      "source": [
        "**6 Create an ANN model with 2 dense layers of 30 neurons each**"
      ],
      "metadata": {
        "id": "AKrYhPsfDUWI"
      }
    },
    {
      "cell_type": "code",
      "source": [
        "from threading import active_count\n",
        "model = keras.models.Sequential([\n",
        "    keras.layers.Dense(30, activation=\"relu\", input_shape=[19]),\n",
        "    keras.layers.Dense(30, activation=\"relu\"),\n",
        "    keras.layers.Dense(1)\n",
        "])"
      ],
      "metadata": {
        "id": "5EMToHoFDQ8c"
      },
      "execution_count": null,
      "outputs": []
    },
    {
      "cell_type": "code",
      "source": [
        "model.summary()"
      ],
      "metadata": {
        "colab": {
          "base_uri": "https://localhost:8080/"
        },
        "id": "AIx-U0HxEu_a",
        "outputId": "375556da-d3fe-4e57-c526-3eeeae6c0244"
      },
      "execution_count": null,
      "outputs": [
        {
          "output_type": "stream",
          "name": "stdout",
          "text": [
            "Model: \"sequential\"\n",
            "_________________________________________________________________\n",
            " Layer (type)                Output Shape              Param #   \n",
            "=================================================================\n",
            " dense (Dense)               (None, 30)                600       \n",
            "                                                                 \n",
            " dense_1 (Dense)             (None, 30)                930       \n",
            "                                                                 \n",
            " dense_2 (Dense)             (None, 1)                 31        \n",
            "                                                                 \n",
            "=================================================================\n",
            "Total params: 1,561\n",
            "Trainable params: 1,561\n",
            "Non-trainable params: 0\n",
            "_________________________________________________________________\n"
          ]
        }
      ]
    },
    {
      "cell_type": "code",
      "source": [
        "import pydot\n",
        "keras.utils.plot_model(model)"
      ],
      "metadata": {
        "colab": {
          "base_uri": "https://localhost:8080/",
          "height": 369
        },
        "id": "7u9xUY3yE0-W",
        "outputId": "2ae79e64-df31-4ed6-c833-723b6b1926ee"
      },
      "execution_count": null,
      "outputs": [
        {
          "output_type": "execute_result",
          "data": {
            "text/plain": [
              "<IPython.core.display.Image object>"
            ],
            "image/png": "[encoded data removed]"
          },
          "metadata": {},
          "execution_count": 37
        }
      ]
    },
    {
      "cell_type": "markdown",
      "source": [
        "**7 Compile the model with loss=\"mean_squared_error\", optimizer=keras.optimizers.SGD(lr=1e-2) and metrics=['mae'])**"
      ],
      "metadata": {
        "id": "mF8ncoUPEpBc"
      }
    },
    {
      "cell_type": "code",
      "source": [
        "model.compile(loss=\"mean_squared_error\", # since here, we are doing regression\n",
        "              optimizer=keras.optimizers.SGD(lr=1e-3), # Stochastic GD and Value of lr = 0.01\n",
        "              metrics=['mae']) #optional - mean absolute error"
      ],
      "metadata": {
        "colab": {
          "base_uri": "https://localhost:8080/"
        },
        "id": "vfUuD6QeEnJ4",
        "outputId": "52bae0bf-9eee-4c99-a9f0-93b82573e8d2"
      },
      "execution_count": null,
      "outputs": [
        {
          "output_type": "stream",
          "name": "stderr",
          "text": [
            "/usr/local/lib/python3.7/dist-packages/keras/optimizer_v2/gradient_descent.py:102: UserWarning: The `lr` argument is deprecated, use `learning_rate` instead.\n",
            "  super(SGD, self).__init__(name, **kwargs)\n"
          ]
        }
      ]
    },
    {
      "cell_type": "markdown",
      "source": [
        "**8 Train the model for 100 epochs**"
      ],
      "metadata": {
        "id": "Q4lc-w-3FBVG"
      }
    },
    {
      "cell_type": "code",
      "source": [
        "model_history = model.fit(X_train, y_train, epochs=100, validation_data=(X_valid, y_valid))"
      ],
      "metadata": {
        "colab": {
          "base_uri": "https://localhost:8080/"
        },
        "id": "1bRFuuDGE9yz",
        "outputId": "594150fb-ad34-4b30-efea-e83fa1efbbda"
      },
      "execution_count": null,
      "outputs": [
        {
          "output_type": "stream",
          "name": "stdout",
          "text": [
            "Epoch 1/100\n",
            "3/3 [==============================] - 1s 183ms/step - loss: 7.2976 - mae: 2.5846 - val_loss: 6.9842 - val_mae: 2.5238\n",
            "Epoch 2/100\n",
            "3/3 [==============================] - 0s 34ms/step - loss: 6.6815 - mae: 2.4703 - val_loss: 6.4130 - val_mae: 2.4187\n",
            "Epoch 3/100\n",
            "3/3 [==============================] - 0s 30ms/step - loss: 6.1509 - mae: 2.3647 - val_loss: 5.9124 - val_mae: 2.3214\n",
            "Epoch 4/100\n",
            "3/3 [==============================] - 0s 29ms/step - loss: 5.6819 - mae: 2.2682 - val_loss: 5.4673 - val_mae: 2.2303\n",
            "Epoch 5/100\n",
            "3/3 [==============================] - 0s 30ms/step - loss: 5.2649 - mae: 2.1792 - val_loss: 5.0719 - val_mae: 2.1450\n",
            "Epoch 6/100\n",
            "3/3 [==============================] - 0s 30ms/step - loss: 4.8891 - mae: 2.0930 - val_loss: 4.7194 - val_mae: 2.0648\n",
            "Epoch 7/100\n",
            "3/3 [==============================] - 0s 49ms/step - loss: 4.5516 - mae: 2.0128 - val_loss: 4.4012 - val_mae: 1.9887\n",
            "Epoch 8/100\n",
            "3/3 [==============================] - 0s 31ms/step - loss: 4.2447 - mae: 1.9367 - val_loss: 4.1114 - val_mae: 1.9160\n",
            "Epoch 9/100\n",
            "3/3 [==============================] - 0s 34ms/step - loss: 3.9620 - mae: 1.8633 - val_loss: 3.8485 - val_mae: 1.8468\n",
            "Epoch 10/100\n",
            "3/3 [==============================] - 0s 34ms/step - loss: 3.7077 - mae: 1.7926 - val_loss: 3.6088 - val_mae: 1.7810\n",
            "Epoch 11/100\n",
            "3/3 [==============================] - 0s 32ms/step - loss: 3.4698 - mae: 1.7278 - val_loss: 3.3892 - val_mae: 1.7182\n",
            "Epoch 12/100\n",
            "3/3 [==============================] - 0s 43ms/step - loss: 3.2535 - mae: 1.6636 - val_loss: 3.1876 - val_mae: 1.6577\n",
            "Epoch 13/100\n",
            "3/3 [==============================] - 0s 29ms/step - loss: 3.0504 - mae: 1.6005 - val_loss: 3.0020 - val_mae: 1.5992\n",
            "Epoch 14/100\n",
            "3/3 [==============================] - 0s 40ms/step - loss: 2.8642 - mae: 1.5392 - val_loss: 2.8319 - val_mae: 1.5428\n",
            "Epoch 15/100\n",
            "3/3 [==============================] - 0s 23ms/step - loss: 2.6932 - mae: 1.4830 - val_loss: 2.6762 - val_mae: 1.4893\n",
            "Epoch 16/100\n",
            "3/3 [==============================] - 0s 19ms/step - loss: 2.5356 - mae: 1.4312 - val_loss: 2.5346 - val_mae: 1.4423\n",
            "Epoch 17/100\n",
            "3/3 [==============================] - 0s 23ms/step - loss: 2.3916 - mae: 1.3844 - val_loss: 2.4040 - val_mae: 1.3975\n",
            "Epoch 18/100\n",
            "3/3 [==============================] - 0s 20ms/step - loss: 2.2580 - mae: 1.3388 - val_loss: 2.2843 - val_mae: 1.3551\n",
            "Epoch 19/100\n",
            "3/3 [==============================] - 0s 23ms/step - loss: 2.1346 - mae: 1.2954 - val_loss: 2.1745 - val_mae: 1.3149\n",
            "Epoch 20/100\n",
            "3/3 [==============================] - 0s 25ms/step - loss: 2.0207 - mae: 1.2536 - val_loss: 2.0739 - val_mae: 1.2767\n",
            "Epoch 21/100\n",
            "3/3 [==============================] - 0s 21ms/step - loss: 1.9162 - mae: 1.2134 - val_loss: 1.9816 - val_mae: 1.2407\n",
            "Epoch 22/100\n",
            "3/3 [==============================] - 0s 19ms/step - loss: 1.8190 - mae: 1.1766 - val_loss: 1.8979 - val_mae: 1.2065\n",
            "Epoch 23/100\n",
            "3/3 [==============================] - 0s 19ms/step - loss: 1.7283 - mae: 1.1402 - val_loss: 1.8214 - val_mae: 1.1737\n",
            "Epoch 24/100\n",
            "3/3 [==============================] - 0s 23ms/step - loss: 1.6460 - mae: 1.1096 - val_loss: 1.7518 - val_mae: 1.1429\n",
            "Epoch 25/100\n",
            "3/3 [==============================] - 0s 17ms/step - loss: 1.5696 - mae: 1.0779 - val_loss: 1.6875 - val_mae: 1.1138\n",
            "Epoch 26/100\n",
            "3/3 [==============================] - 0s 24ms/step - loss: 1.4969 - mae: 1.0485 - val_loss: 1.6295 - val_mae: 1.0870\n",
            "Epoch 27/100\n",
            "3/3 [==============================] - 0s 19ms/step - loss: 1.4315 - mae: 1.0214 - val_loss: 1.5762 - val_mae: 1.0620\n",
            "Epoch 28/100\n",
            "3/3 [==============================] - 0s 19ms/step - loss: 1.3694 - mae: 0.9938 - val_loss: 1.5281 - val_mae: 1.0383\n",
            "Epoch 29/100\n",
            "3/3 [==============================] - 0s 23ms/step - loss: 1.3127 - mae: 0.9692 - val_loss: 1.4841 - val_mae: 1.0154\n",
            "Epoch 30/100\n",
            "3/3 [==============================] - 0s 18ms/step - loss: 1.2605 - mae: 0.9474 - val_loss: 1.4436 - val_mae: 0.9937\n",
            "Epoch 31/100\n",
            "3/3 [==============================] - 0s 24ms/step - loss: 1.2102 - mae: 0.9251 - val_loss: 1.4068 - val_mae: 0.9731\n",
            "Epoch 32/100\n",
            "3/3 [==============================] - 0s 19ms/step - loss: 1.1639 - mae: 0.9050 - val_loss: 1.3735 - val_mae: 0.9541\n",
            "Epoch 33/100\n",
            "3/3 [==============================] - 0s 26ms/step - loss: 1.1208 - mae: 0.8843 - val_loss: 1.3434 - val_mae: 0.9363\n",
            "Epoch 34/100\n",
            "3/3 [==============================] - 0s 18ms/step - loss: 1.0808 - mae: 0.8652 - val_loss: 1.3158 - val_mae: 0.9192\n",
            "Epoch 35/100\n",
            "3/3 [==============================] - 0s 22ms/step - loss: 1.0433 - mae: 0.8463 - val_loss: 1.2909 - val_mae: 0.9029\n",
            "Epoch 36/100\n",
            "3/3 [==============================] - 0s 18ms/step - loss: 1.0088 - mae: 0.8287 - val_loss: 1.2682 - val_mae: 0.8874\n",
            "Epoch 37/100\n",
            "3/3 [==============================] - 0s 25ms/step - loss: 0.9764 - mae: 0.8106 - val_loss: 1.2478 - val_mae: 0.8728\n",
            "Epoch 38/100\n",
            "3/3 [==============================] - 0s 20ms/step - loss: 0.9461 - mae: 0.7945 - val_loss: 1.2292 - val_mae: 0.8591\n",
            "Epoch 39/100\n",
            "3/3 [==============================] - 0s 20ms/step - loss: 0.9180 - mae: 0.7798 - val_loss: 1.2124 - val_mae: 0.8460\n",
            "Epoch 40/100\n",
            "3/3 [==============================] - 0s 25ms/step - loss: 0.8911 - mae: 0.7668 - val_loss: 1.1971 - val_mae: 0.8334\n",
            "Epoch 41/100\n",
            "3/3 [==============================] - 0s 17ms/step - loss: 0.8660 - mae: 0.7533 - val_loss: 1.1832 - val_mae: 0.8212\n",
            "Epoch 42/100\n",
            "3/3 [==============================] - 0s 23ms/step - loss: 0.8422 - mae: 0.7411 - val_loss: 1.1708 - val_mae: 0.8096\n",
            "Epoch 43/100\n",
            "3/3 [==============================] - 0s 17ms/step - loss: 0.8203 - mae: 0.7309 - val_loss: 1.1595 - val_mae: 0.7986\n",
            "Epoch 44/100\n",
            "3/3 [==============================] - 0s 16ms/step - loss: 0.8003 - mae: 0.7197 - val_loss: 1.1494 - val_mae: 0.7883\n",
            "Epoch 45/100\n",
            "3/3 [==============================] - 0s 22ms/step - loss: 0.7808 - mae: 0.7103 - val_loss: 1.1401 - val_mae: 0.7782\n",
            "Epoch 46/100\n",
            "3/3 [==============================] - 0s 23ms/step - loss: 0.7624 - mae: 0.7006 - val_loss: 1.1319 - val_mae: 0.7690\n",
            "Epoch 47/100\n",
            "3/3 [==============================] - 0s 19ms/step - loss: 0.7438 - mae: 0.6903 - val_loss: 1.1245 - val_mae: 0.7601\n",
            "Epoch 48/100\n",
            "3/3 [==============================] - 0s 18ms/step - loss: 0.7265 - mae: 0.6815 - val_loss: 1.1178 - val_mae: 0.7517\n",
            "Epoch 49/100\n",
            "3/3 [==============================] - 0s 22ms/step - loss: 0.7108 - mae: 0.6725 - val_loss: 1.1117 - val_mae: 0.7438\n",
            "Epoch 50/100\n",
            "3/3 [==============================] - 0s 23ms/step - loss: 0.6955 - mae: 0.6636 - val_loss: 1.1062 - val_mae: 0.7361\n",
            "Epoch 51/100\n",
            "3/3 [==============================] - 0s 17ms/step - loss: 0.6817 - mae: 0.6559 - val_loss: 1.1011 - val_mae: 0.7287\n",
            "Epoch 52/100\n",
            "3/3 [==============================] - 0s 23ms/step - loss: 0.6674 - mae: 0.6472 - val_loss: 1.0965 - val_mae: 0.7218\n",
            "Epoch 53/100\n",
            "3/3 [==============================] - 0s 19ms/step - loss: 0.6541 - mae: 0.6395 - val_loss: 1.0922 - val_mae: 0.7152\n",
            "Epoch 54/100\n",
            "3/3 [==============================] - 0s 23ms/step - loss: 0.6421 - mae: 0.6315 - val_loss: 1.0884 - val_mae: 0.7090\n",
            "Epoch 55/100\n",
            "3/3 [==============================] - 0s 19ms/step - loss: 0.6302 - mae: 0.6243 - val_loss: 1.0848 - val_mae: 0.7031\n",
            "Epoch 56/100\n",
            "3/3 [==============================] - 0s 18ms/step - loss: 0.6185 - mae: 0.6170 - val_loss: 1.0814 - val_mae: 0.6975\n",
            "Epoch 57/100\n",
            "3/3 [==============================] - 0s 19ms/step - loss: 0.6069 - mae: 0.6107 - val_loss: 1.0784 - val_mae: 0.6919\n",
            "Epoch 58/100\n",
            "3/3 [==============================] - 0s 17ms/step - loss: 0.5972 - mae: 0.6042 - val_loss: 1.0755 - val_mae: 0.6867\n",
            "Epoch 59/100\n",
            "3/3 [==============================] - 0s 17ms/step - loss: 0.5861 - mae: 0.5985 - val_loss: 1.0729 - val_mae: 0.6815\n",
            "Epoch 60/100\n",
            "3/3 [==============================] - 0s 23ms/step - loss: 0.5768 - mae: 0.5934 - val_loss: 1.0704 - val_mae: 0.6765\n",
            "Epoch 61/100\n",
            "3/3 [==============================] - 0s 18ms/step - loss: 0.5677 - mae: 0.5882 - val_loss: 1.0680 - val_mae: 0.6716\n",
            "Epoch 62/100\n",
            "3/3 [==============================] - 0s 21ms/step - loss: 0.5581 - mae: 0.5826 - val_loss: 1.0659 - val_mae: 0.6667\n",
            "Epoch 63/100\n",
            "3/3 [==============================] - 0s 17ms/step - loss: 0.5494 - mae: 0.5776 - val_loss: 1.0637 - val_mae: 0.6620\n",
            "Epoch 64/100\n",
            "3/3 [==============================] - 0s 24ms/step - loss: 0.5397 - mae: 0.5721 - val_loss: 1.0617 - val_mae: 0.6574\n",
            "Epoch 65/100\n",
            "3/3 [==============================] - 0s 18ms/step - loss: 0.5314 - mae: 0.5670 - val_loss: 1.0595 - val_mae: 0.6530\n",
            "Epoch 66/100\n",
            "3/3 [==============================] - 0s 20ms/step - loss: 0.5233 - mae: 0.5628 - val_loss: 1.0573 - val_mae: 0.6488\n",
            "Epoch 67/100\n",
            "3/3 [==============================] - 0s 26ms/step - loss: 0.5153 - mae: 0.5581 - val_loss: 1.0552 - val_mae: 0.6446\n",
            "Epoch 68/100\n",
            "3/3 [==============================] - 0s 18ms/step - loss: 0.5075 - mae: 0.5537 - val_loss: 1.0531 - val_mae: 0.6406\n",
            "Epoch 69/100\n",
            "3/3 [==============================] - 0s 19ms/step - loss: 0.5011 - mae: 0.5497 - val_loss: 1.0511 - val_mae: 0.6366\n",
            "Epoch 70/100\n",
            "3/3 [==============================] - 0s 23ms/step - loss: 0.4931 - mae: 0.5452 - val_loss: 1.0492 - val_mae: 0.6328\n",
            "Epoch 71/100\n",
            "3/3 [==============================] - 0s 18ms/step - loss: 0.4858 - mae: 0.5412 - val_loss: 1.0473 - val_mae: 0.6291\n",
            "Epoch 72/100\n",
            "3/3 [==============================] - 0s 17ms/step - loss: 0.4797 - mae: 0.5376 - val_loss: 1.0455 - val_mae: 0.6256\n",
            "Epoch 73/100\n",
            "3/3 [==============================] - 0s 22ms/step - loss: 0.4725 - mae: 0.5334 - val_loss: 1.0438 - val_mae: 0.6221\n",
            "Epoch 74/100\n",
            "3/3 [==============================] - 0s 21ms/step - loss: 0.4659 - mae: 0.5298 - val_loss: 1.0420 - val_mae: 0.6187\n",
            "Epoch 75/100\n",
            "3/3 [==============================] - 0s 20ms/step - loss: 0.4600 - mae: 0.5263 - val_loss: 1.0403 - val_mae: 0.6155\n",
            "Epoch 76/100\n",
            "3/3 [==============================] - 0s 19ms/step - loss: 0.4535 - mae: 0.5227 - val_loss: 1.0385 - val_mae: 0.6123\n",
            "Epoch 77/100\n",
            "3/3 [==============================] - 0s 21ms/step - loss: 0.4475 - mae: 0.5193 - val_loss: 1.0368 - val_mae: 0.6092\n",
            "Epoch 78/100\n",
            "3/3 [==============================] - 0s 24ms/step - loss: 0.4419 - mae: 0.5158 - val_loss: 1.0352 - val_mae: 0.6061\n",
            "Epoch 79/100\n",
            "3/3 [==============================] - 0s 23ms/step - loss: 0.4363 - mae: 0.5123 - val_loss: 1.0335 - val_mae: 0.6032\n",
            "Epoch 80/100\n",
            "3/3 [==============================] - 0s 19ms/step - loss: 0.4309 - mae: 0.5087 - val_loss: 1.0318 - val_mae: 0.6003\n",
            "Epoch 81/100\n",
            "3/3 [==============================] - 0s 18ms/step - loss: 0.4250 - mae: 0.5054 - val_loss: 1.0301 - val_mae: 0.5975\n",
            "Epoch 82/100\n",
            "3/3 [==============================] - 0s 18ms/step - loss: 0.4198 - mae: 0.5021 - val_loss: 1.0283 - val_mae: 0.5948\n",
            "Epoch 83/100\n",
            "3/3 [==============================] - 0s 18ms/step - loss: 0.4150 - mae: 0.4992 - val_loss: 1.0267 - val_mae: 0.5921\n",
            "Epoch 84/100\n",
            "3/3 [==============================] - 0s 23ms/step - loss: 0.4097 - mae: 0.4960 - val_loss: 1.0250 - val_mae: 0.5895\n",
            "Epoch 85/100\n",
            "3/3 [==============================] - 0s 19ms/step - loss: 0.4050 - mae: 0.4931 - val_loss: 1.0231 - val_mae: 0.5869\n",
            "Epoch 86/100\n",
            "3/3 [==============================] - 0s 22ms/step - loss: 0.3995 - mae: 0.4899 - val_loss: 1.0212 - val_mae: 0.5845\n",
            "Epoch 87/100\n",
            "3/3 [==============================] - 0s 17ms/step - loss: 0.3957 - mae: 0.4882 - val_loss: 1.0195 - val_mae: 0.5820\n",
            "Epoch 88/100\n",
            "3/3 [==============================] - 0s 18ms/step - loss: 0.3902 - mae: 0.4849 - val_loss: 1.0177 - val_mae: 0.5797\n",
            "Epoch 89/100\n",
            "3/3 [==============================] - 0s 18ms/step - loss: 0.3857 - mae: 0.4823 - val_loss: 1.0158 - val_mae: 0.5773\n",
            "Epoch 90/100\n",
            "3/3 [==============================] - 0s 17ms/step - loss: 0.3812 - mae: 0.4800 - val_loss: 1.0139 - val_mae: 0.5751\n",
            "Epoch 91/100\n",
            "3/3 [==============================] - 0s 20ms/step - loss: 0.3769 - mae: 0.4774 - val_loss: 1.0121 - val_mae: 0.5728\n",
            "Epoch 92/100\n",
            "3/3 [==============================] - 0s 19ms/step - loss: 0.3726 - mae: 0.4747 - val_loss: 1.0102 - val_mae: 0.5706\n",
            "Epoch 93/100\n",
            "3/3 [==============================] - 0s 22ms/step - loss: 0.3688 - mae: 0.4726 - val_loss: 1.0085 - val_mae: 0.5684\n",
            "Epoch 94/100\n",
            "3/3 [==============================] - 0s 18ms/step - loss: 0.3646 - mae: 0.4701 - val_loss: 1.0065 - val_mae: 0.5662\n",
            "Epoch 95/100\n",
            "3/3 [==============================] - 0s 23ms/step - loss: 0.3606 - mae: 0.4678 - val_loss: 1.0046 - val_mae: 0.5640\n",
            "Epoch 96/100\n",
            "3/3 [==============================] - 0s 25ms/step - loss: 0.3561 - mae: 0.4652 - val_loss: 1.0027 - val_mae: 0.5619\n",
            "Epoch 97/100\n",
            "3/3 [==============================] - 0s 23ms/step - loss: 0.3521 - mae: 0.4629 - val_loss: 1.0008 - val_mae: 0.5597\n",
            "Epoch 98/100\n",
            "3/3 [==============================] - 0s 24ms/step - loss: 0.3480 - mae: 0.4605 - val_loss: 0.9990 - val_mae: 0.5577\n",
            "Epoch 99/100\n",
            "3/3 [==============================] - 0s 23ms/step - loss: 0.3445 - mae: 0.4584 - val_loss: 0.9970 - val_mae: 0.5556\n",
            "Epoch 100/100\n",
            "3/3 [==============================] - 0s 17ms/step - loss: 0.3405 - mae: 0.4560 - val_loss: 0.9952 - val_mae: 0.5536\n"
          ]
        }
      ]
    },
    {
      "cell_type": "markdown",
      "source": [
        "**9 Evaluate the model performance on the test set**"
      ],
      "metadata": {
        "id": "tFYKhvSfFVJ2"
      }
    },
    {
      "cell_type": "code",
      "source": [
        "mae_test = model.evaluate(X_test, y_test)"
      ],
      "metadata": {
        "colab": {
          "base_uri": "https://localhost:8080/"
        },
        "id": "GAbGoI6XFS1K",
        "outputId": "3ed80e7d-4e4e-4353-df06-664ac02d85fc"
      },
      "execution_count": null,
      "outputs": [
        {
          "output_type": "stream",
          "name": "stdout",
          "text": [
            "4/4 [==============================] - 0s 3ms/step - loss: 2.1853 - mae: 0.6222\n"
          ]
        }
      ]
    },
    {
      "cell_type": "code",
      "source": [
        "model_history.history"
      ],
      "metadata": {
        "colab": {
          "base_uri": "https://localhost:8080/"
        },
        "id": "WeQlb8n3FbgO",
        "outputId": "76423ecd-9950-40ef-8e6e-02f77b99a7ec"
      },
      "execution_count": null,
      "outputs": [
        {
          "output_type": "execute_result",
          "data": {
            "text/plain": [
              "{'loss': [7.297590255737305,\n",
              "  6.681488990783691,\n",
              "  6.150854587554932,\n",
              "  5.681915760040283,\n",
              "  5.264920711517334,\n",
              "  4.8890814781188965,\n",
              "  4.551560878753662,\n",
              "  4.244748592376709,\n",
              "  3.961958408355713,\n",
              "  3.707735300064087,\n",
              "  3.4698119163513184,\n",
              "  3.253502130508423,\n",
              "  3.050377368927002,\n",
              "  2.8642163276672363,\n",
              "  2.6932225227355957,\n",
              "  2.5355632305145264,\n",
              "  2.3916447162628174,\n",
              "  2.2579734325408936,\n",
              "  2.1345744132995605,\n",
              "  2.0206992626190186,\n",
              "  1.9162455797195435,\n",
              "  1.8190436363220215,\n",
              "  1.7283145189285278,\n",
              "  1.6460366249084473,\n",
              "  1.56964910030365,\n",
              "  1.496942162513733,\n",
              "  1.4314501285552979,\n",
              "  1.3694477081298828,\n",
              "  1.3127496242523193,\n",
              "  1.2604608535766602,\n",
              "  1.2101635932922363,\n",
              "  1.1638743877410889,\n",
              "  1.1208302974700928,\n",
              "  1.0807753801345825,\n",
              "  1.0433017015457153,\n",
              "  1.0088109970092773,\n",
              "  0.9764364957809448,\n",
              "  0.9461092352867126,\n",
              "  0.9180073738098145,\n",
              "  0.8911014199256897,\n",
              "  0.8659602999687195,\n",
              "  0.8421552181243896,\n",
              "  0.8203485608100891,\n",
              "  0.8002747297286987,\n",
              "  0.7807899713516235,\n",
              "  0.7624192237854004,\n",
              "  0.7438041567802429,\n",
              "  0.7265414595603943,\n",
              "  0.7107703685760498,\n",
              "  0.6954911351203918,\n",
              "  0.6816856861114502,\n",
              "  0.6673575639724731,\n",
              "  0.6540513038635254,\n",
              "  0.6421354413032532,\n",
              "  0.6302067041397095,\n",
              "  0.6184550523757935,\n",
              "  0.6069304347038269,\n",
              "  0.5972049832344055,\n",
              "  0.5860561728477478,\n",
              "  0.5768150091171265,\n",
              "  0.567668080329895,\n",
              "  0.5580833554267883,\n",
              "  0.5493569374084473,\n",
              "  0.5397025346755981,\n",
              "  0.5313612222671509,\n",
              "  0.5233163833618164,\n",
              "  0.5153059363365173,\n",
              "  0.507487416267395,\n",
              "  0.5011213421821594,\n",
              "  0.4930908977985382,\n",
              "  0.4857591986656189,\n",
              "  0.47972026467323303,\n",
              "  0.4725441634654999,\n",
              "  0.4659234285354614,\n",
              "  0.4600163400173187,\n",
              "  0.4534948766231537,\n",
              "  0.44753125309944153,\n",
              "  0.44193002581596375,\n",
              "  0.4362547695636749,\n",
              "  0.43088650703430176,\n",
              "  0.4250464141368866,\n",
              "  0.41983360052108765,\n",
              "  0.4150272607803345,\n",
              "  0.40972140431404114,\n",
              "  0.40495339035987854,\n",
              "  0.39948055148124695,\n",
              "  0.3957129716873169,\n",
              "  0.39015987515449524,\n",
              "  0.3857480585575104,\n",
              "  0.3812071979045868,\n",
              "  0.3768908977508545,\n",
              "  0.3725895881652832,\n",
              "  0.3688255250453949,\n",
              "  0.3645630180835724,\n",
              "  0.3605778217315674,\n",
              "  0.3560795485973358,\n",
              "  0.3520580232143402,\n",
              "  0.3480379283428192,\n",
              "  0.34450358152389526,\n",
              "  0.3405214548110962],\n",
              " 'mae': [2.584611177444458,\n",
              "  2.470297336578369,\n",
              "  2.364743232727051,\n",
              "  2.268242597579956,\n",
              "  2.1792078018188477,\n",
              "  2.092970609664917,\n",
              "  2.0127885341644287,\n",
              "  1.9366648197174072,\n",
              "  1.8632535934448242,\n",
              "  1.7925711870193481,\n",
              "  1.727809190750122,\n",
              "  1.663619041442871,\n",
              "  1.600529432296753,\n",
              "  1.5392423868179321,\n",
              "  1.4829683303833008,\n",
              "  1.4311630725860596,\n",
              "  1.3843764066696167,\n",
              "  1.3388094902038574,\n",
              "  1.2954447269439697,\n",
              "  1.2536264657974243,\n",
              "  1.2134454250335693,\n",
              "  1.1765954494476318,\n",
              "  1.1401863098144531,\n",
              "  1.109564185142517,\n",
              "  1.0778568983078003,\n",
              "  1.0485397577285767,\n",
              "  1.0214002132415771,\n",
              "  0.9937946796417236,\n",
              "  0.9692440629005432,\n",
              "  0.9474335312843323,\n",
              "  0.9250994920730591,\n",
              "  0.9050318598747253,\n",
              "  0.8842896819114685,\n",
              "  0.8651582598686218,\n",
              "  0.84626704454422,\n",
              "  0.8286970257759094,\n",
              "  0.8105753064155579,\n",
              "  0.7945138812065125,\n",
              "  0.7797747850418091,\n",
              "  0.7668272852897644,\n",
              "  0.7533002495765686,\n",
              "  0.7411209940910339,\n",
              "  0.7308652997016907,\n",
              "  0.7197301983833313,\n",
              "  0.7103305459022522,\n",
              "  0.7005897164344788,\n",
              "  0.6902514696121216,\n",
              "  0.6814635992050171,\n",
              "  0.6725468635559082,\n",
              "  0.6636340618133545,\n",
              "  0.6559481620788574,\n",
              "  0.6471510529518127,\n",
              "  0.639460027217865,\n",
              "  0.631530225276947,\n",
              "  0.6243060231208801,\n",
              "  0.6170008778572083,\n",
              "  0.6107361912727356,\n",
              "  0.604237973690033,\n",
              "  0.5985406041145325,\n",
              "  0.5933752059936523,\n",
              "  0.5882327556610107,\n",
              "  0.5826316475868225,\n",
              "  0.5776323080062866,\n",
              "  0.5720570087432861,\n",
              "  0.5670075416564941,\n",
              "  0.5627867579460144,\n",
              "  0.5581427216529846,\n",
              "  0.5536671876907349,\n",
              "  0.5497498512268066,\n",
              "  0.5452234148979187,\n",
              "  0.5411651730537415,\n",
              "  0.5376315116882324,\n",
              "  0.5334384441375732,\n",
              "  0.5297516584396362,\n",
              "  0.5262936353683472,\n",
              "  0.522706151008606,\n",
              "  0.519303023815155,\n",
              "  0.5157907605171204,\n",
              "  0.5122920870780945,\n",
              "  0.5086598992347717,\n",
              "  0.5054137110710144,\n",
              "  0.5020669102668762,\n",
              "  0.49916115403175354,\n",
              "  0.4960460364818573,\n",
              "  0.4930781424045563,\n",
              "  0.48994478583335876,\n",
              "  0.4881560504436493,\n",
              "  0.48490411043167114,\n",
              "  0.48229023814201355,\n",
              "  0.48002320528030396,\n",
              "  0.477359414100647,\n",
              "  0.4747011363506317,\n",
              "  0.4726196229457855,\n",
              "  0.47005707025527954,\n",
              "  0.46782636642456055,\n",
              "  0.46516144275665283,\n",
              "  0.46288540959358215,\n",
              "  0.4604717493057251,\n",
              "  0.4583730697631836,\n",
              "  0.45597872138023376],\n",
              " 'val_loss': [6.984232425689697,\n",
              "  6.412991523742676,\n",
              "  5.912352561950684,\n",
              "  5.467303276062012,\n",
              "  5.071925163269043,\n",
              "  4.719389915466309,\n",
              "  4.40122127532959,\n",
              "  4.111434459686279,\n",
              "  3.848511219024658,\n",
              "  3.60876727104187,\n",
              "  3.3891594409942627,\n",
              "  3.1876230239868164,\n",
              "  3.002013921737671,\n",
              "  2.8319129943847656,\n",
              "  2.6762032508850098,\n",
              "  2.5345633029937744,\n",
              "  2.404038667678833,\n",
              "  2.2843194007873535,\n",
              "  2.1745214462280273,\n",
              "  2.073873281478882,\n",
              "  1.9815791845321655,\n",
              "  1.8979098796844482,\n",
              "  1.8214046955108643,\n",
              "  1.7517619132995605,\n",
              "  1.6874665021896362,\n",
              "  1.6294926404953003,\n",
              "  1.5762213468551636,\n",
              "  1.528085470199585,\n",
              "  1.484133005142212,\n",
              "  1.4436246156692505,\n",
              "  1.40677809715271,\n",
              "  1.3734912872314453,\n",
              "  1.3433563709259033,\n",
              "  1.3157885074615479,\n",
              "  1.2908649444580078,\n",
              "  1.2682362794876099,\n",
              "  1.2477669715881348,\n",
              "  1.2292124032974243,\n",
              "  1.2124210596084595,\n",
              "  1.1971126794815063,\n",
              "  1.1832444667816162,\n",
              "  1.1708168983459473,\n",
              "  1.1595276594161987,\n",
              "  1.1493723392486572,\n",
              "  1.1400856971740723,\n",
              "  1.1319257020950317,\n",
              "  1.124505639076233,\n",
              "  1.1177771091461182,\n",
              "  1.1116878986358643,\n",
              "  1.1061962842941284,\n",
              "  1.1011228561401367,\n",
              "  1.0964810848236084,\n",
              "  1.0922350883483887,\n",
              "  1.0883625745773315,\n",
              "  1.0847737789154053,\n",
              "  1.0814465284347534,\n",
              "  1.0783660411834717,\n",
              "  1.0754871368408203,\n",
              "  1.0728710889816284,\n",
              "  1.070360779762268,\n",
              "  1.0679922103881836,\n",
              "  1.065882682800293,\n",
              "  1.0637458562850952,\n",
              "  1.0617480278015137,\n",
              "  1.059531569480896,\n",
              "  1.0572974681854248,\n",
              "  1.0551518201828003,\n",
              "  1.0531376600265503,\n",
              "  1.051125168800354,\n",
              "  1.0491554737091064,\n",
              "  1.0473476648330688,\n",
              "  1.0455316305160522,\n",
              "  1.0437947511672974,\n",
              "  1.0420101881027222,\n",
              "  1.040260910987854,\n",
              "  1.0385429859161377,\n",
              "  1.0367927551269531,\n",
              "  1.0351721048355103,\n",
              "  1.0335050821304321,\n",
              "  1.0317641496658325,\n",
              "  1.030058741569519,\n",
              "  1.0283055305480957,\n",
              "  1.0267064571380615,\n",
              "  1.024967074394226,\n",
              "  1.0230581760406494,\n",
              "  1.0212229490280151,\n",
              "  1.0195252895355225,\n",
              "  1.0177061557769775,\n",
              "  1.0158137083053589,\n",
              "  1.0139023065567017,\n",
              "  1.0120813846588135,\n",
              "  1.010221242904663,\n",
              "  1.008454442024231,\n",
              "  1.0064785480499268,\n",
              "  1.0045608282089233,\n",
              "  1.002663016319275,\n",
              "  1.0008071660995483,\n",
              "  0.9989622831344604,\n",
              "  0.9970345497131348,\n",
              "  0.9951736927032471],\n",
              " 'val_mae': [2.523792266845703,\n",
              "  2.4187045097351074,\n",
              "  2.321415901184082,\n",
              "  2.230252742767334,\n",
              "  2.14502215385437,\n",
              "  2.0647523403167725,\n",
              "  1.9886833429336548,\n",
              "  1.9159950017929077,\n",
              "  1.8467544317245483,\n",
              "  1.7809808254241943,\n",
              "  1.718178629875183,\n",
              "  1.6576794385910034,\n",
              "  1.5992257595062256,\n",
              "  1.5428389310836792,\n",
              "  1.4893487691879272,\n",
              "  1.442251443862915,\n",
              "  1.397511601448059,\n",
              "  1.355129361152649,\n",
              "  1.314850091934204,\n",
              "  1.276747465133667,\n",
              "  1.240702748298645,\n",
              "  1.20651113986969,\n",
              "  1.1736563444137573,\n",
              "  1.1429171562194824,\n",
              "  1.1138414144515991,\n",
              "  1.0870059728622437,\n",
              "  1.0620166063308716,\n",
              "  1.0382673740386963,\n",
              "  1.0154272317886353,\n",
              "  0.9937192797660828,\n",
              "  0.973111629486084,\n",
              "  0.9540646076202393,\n",
              "  0.9363491535186768,\n",
              "  0.9191652536392212,\n",
              "  0.9028977155685425,\n",
              "  0.8874372839927673,\n",
              "  0.8727730512619019,\n",
              "  0.8591046333312988,\n",
              "  0.8460440039634705,\n",
              "  0.8334463238716125,\n",
              "  0.8212072849273682,\n",
              "  0.8095722198486328,\n",
              "  0.7986063361167908,\n",
              "  0.7882874608039856,\n",
              "  0.778232216835022,\n",
              "  0.7689521312713623,\n",
              "  0.7601316571235657,\n",
              "  0.7517473101615906,\n",
              "  0.743834376335144,\n",
              "  0.7360900044441223,\n",
              "  0.7286813259124756,\n",
              "  0.7217650413513184,\n",
              "  0.7152234315872192,\n",
              "  0.7090181112289429,\n",
              "  0.7031311392784119,\n",
              "  0.6974544525146484,\n",
              "  0.6919165849685669,\n",
              "  0.6866623759269714,\n",
              "  0.6814989447593689,\n",
              "  0.67649906873703,\n",
              "  0.6715987324714661,\n",
              "  0.6666994690895081,\n",
              "  0.6620014905929565,\n",
              "  0.6574074625968933,\n",
              "  0.6529959440231323,\n",
              "  0.648762047290802,\n",
              "  0.6446458697319031,\n",
              "  0.6405829191207886,\n",
              "  0.6365998983383179,\n",
              "  0.6327795386314392,\n",
              "  0.6290965676307678,\n",
              "  0.6255559921264648,\n",
              "  0.6221091151237488,\n",
              "  0.618739128112793,\n",
              "  0.6154586672782898,\n",
              "  0.6122973561286926,\n",
              "  0.6092232465744019,\n",
              "  0.6061496138572693,\n",
              "  0.6031808257102966,\n",
              "  0.6003003120422363,\n",
              "  0.597484290599823,\n",
              "  0.5947878956794739,\n",
              "  0.5920941233634949,\n",
              "  0.5894743204116821,\n",
              "  0.5869486927986145,\n",
              "  0.5844660997390747,\n",
              "  0.5820237398147583,\n",
              "  0.579666793346405,\n",
              "  0.577345073223114,\n",
              "  0.575078547000885,\n",
              "  0.572820246219635,\n",
              "  0.5705914497375488,\n",
              "  0.5683619976043701,\n",
              "  0.566180408000946,\n",
              "  0.564008891582489,\n",
              "  0.5618529915809631,\n",
              "  0.5597321391105652,\n",
              "  0.5576577186584473,\n",
              "  0.5556122064590454,\n",
              "  0.5536062121391296]}"
            ]
          },
          "metadata": {},
          "execution_count": 41
        }
      ]
    },
    {
      "cell_type": "code",
      "source": [
        "pd.DataFrame(model_history.history).plot(figsize=(8,5))\n",
        "plt.grid(True)\n",
        "plt.gca().set_ylim(0,1) # Y axis between 0 and 1\n",
        "plt.show()"
      ],
      "metadata": {
        "colab": {
          "base_uri": "https://localhost:8080/",
          "height": 324
        },
        "id": "1APn7kC7Fd7l",
        "outputId": "ee486824-d863-4adf-8400-5f8e7fa058ef"
      },
      "execution_count": null,
      "outputs": [
        {
          "output_type": "display_data",
          "data": {
            "text/plain": [
              "<Figure size 576x360 with 1 Axes>"
            ],
            "image/png": "[encoded data removed]"
          },
          "metadata": {
            "needs_background": "light"
          }
        }
      ]
    },
    {
      "cell_type": "markdown",
      "source": [
        "**10 Predict the values of the first 5 test records**"
      ],
      "metadata": {
        "id": "P0-93O3HF37O"
      }
    },
    {
      "cell_type": "code",
      "source": [
        "X_new = X_test[:5]"
      ],
      "metadata": {
        "id": "w3HNIYJDFo4d"
      },
      "execution_count": null,
      "outputs": []
    },
    {
      "cell_type": "code",
      "source": [
        "y_pred = model.predict(X_new)\n",
        "y_pred"
      ],
      "metadata": {
        "colab": {
          "base_uri": "https://localhost:8080/"
        },
        "id": "v69vauDwF-YL",
        "outputId": "ce6028f6-1138-4fa7-9e60-ae9b1ea08307"
      },
      "execution_count": null,
      "outputs": [
        {
          "output_type": "execute_result",
          "data": {
            "text/plain": [
              "array([[1.7700222],\n",
              "       [1.3417326],\n",
              "       [2.3551064],\n",
              "       [2.3515644],\n",
              "       [1.0092493]], dtype=float32)"
            ]
          },
          "metadata": {},
          "execution_count": 44
        }
      ]
    },
    {
      "cell_type": "code",
      "source": [
        "y_test[:5]"
      ],
      "metadata": {
        "colab": {
          "base_uri": "https://localhost:8080/",
          "height": 206
        },
        "id": "htJXNMW2GAQL",
        "outputId": "3371aebb-20af-4a90-962f-5973d8f15bff"
      },
      "execution_count": null,
      "outputs": [
        {
          "output_type": "execute_result",
          "data": {
            "text/plain": [
              "     Collection\n",
              "60     1.913333\n",
              "142    1.560000\n",
              "53     2.226667\n",
              "163    4.000000\n",
              "474    1.586667"
            ],
            "text/html": [
              "\n",
              "  <div id=\"df-e04a95d7-8934-4782-9be1-e84901f18eca\">\n",
              "    <div class=\"colab-df-container\">\n",
              "      <div>\n",
              "<style scoped>\n",
              "    .dataframe tbody tr th:only-of-type {\n",
              "        vertical-align: middle;\n",
              "    }\n",
              "\n",
              "    .dataframe tbody tr th {\n",
              "        vertical-align: top;\n",
              "    }\n",
              "\n",
              "    .dataframe thead th {\n",
              "        text-align: right;\n",
              "    }\n",
              "</style>\n",
              "<table border=\"1\" class=\"dataframe\">\n",
              "  <thead>\n",
              "    <tr style=\"text-align: right;\">\n",
              "      <th></th>\n",
              "      <th>Collection</th>\n",
              "    </tr>\n",
              "  </thead>\n",
              "  <tbody>\n",
              "    <tr>\n",
              "      <th>60</th>\n",
              "      <td>1.913333</td>\n",
              "    </tr>\n",
              "    <tr>\n",
              "      <th>142</th>\n",
              "      <td>1.560000</td>\n",
              "    </tr>\n",
              "    <tr>\n",
              "      <th>53</th>\n",
              "      <td>2.226667</td>\n",
              "    </tr>\n",
              "    <tr>\n",
              "      <th>163</th>\n",
              "      <td>4.000000</td>\n",
              "    </tr>\n",
              "    <tr>\n",
              "      <th>474</th>\n",
              "      <td>1.586667</td>\n",
              "    </tr>\n",
              "  </tbody>\n",
              "</table>\n",
              "</div>\n",
              "      <button class=\"colab-df-convert\" onclick=\"convertToInteractive('df-e04a95d7-8934-4782-9be1-e84901f18eca')\"\n",
              "              title=\"Convert this dataframe to an interactive table.\"\n",
              "              style=\"display:none;\">\n",
              "        \n",
              "  <svg xmlns=\"http://www.w3.org/2000/svg\" height=\"24px\"viewBox=\"0 0 24 24\"\n",
              "       width=\"24px\">\n",
              "    <path d=\"M0 0h24v24H0V0z\" fill=\"none\"/>\n",
              "    <path d=\"M18.56 5.44l.94 2.06.94-2.06 2.06-.94-2.06-.94-.94-2.06-.94 2.06-2.06.94zm-11 1L8.5 8.5l.94-2.06 2.06-.94-2.06-.94L8.5 2.5l-.94 2.06-2.06.94zm10 10l.94 2.06.94-2.06 2.06-.94-2.06-.94-.94-2.06-.94 2.06-2.06.94z\"/><path d=\"M17.41 7.96l-1.37-1.37c-.4-.4-.92-.59-1.43-.59-.52 0-1.04.2-1.43.59L10.3 9.45l-7.72 7.72c-.78.78-.78 2.05 0 2.83L4 21.41c.39.39.9.59 1.41.59.51 0 1.02-.2 1.41-.59l7.78-7.78 2.81-2.81c.8-.78.8-2.07 0-2.86zM5.41 20L4 18.59l7.72-7.72 1.47 1.35L5.41 20z\"/>\n",
              "  </svg>\n",
              "      </button>\n",
              "      \n",
              "  <style>\n",
              "    .colab-df-container {\n",
              "      display:flex;\n",
              "      flex-wrap:wrap;\n",
              "      gap: 12px;\n",
              "    }\n",
              "\n",
              "    .colab-df-convert {\n",
              "      background-color: #E8F0FE;\n",
              "      border: none;\n",
              "      border-radius: 50%;\n",
              "      cursor: pointer;\n",
              "      display: none;\n",
              "      fill: #1967D2;\n",
              "      height: 32px;\n",
              "      padding: 0 0 0 0;\n",
              "      width: 32px;\n",
              "    }\n",
              "\n",
              "    .colab-df-convert:hover {\n",
              "      background-color: #E2EBFA;\n",
              "      box-shadow: 0px 1px 2px rgba(60, 64, 67, 0.3), 0px 1px 3px 1px rgba(60, 64, 67, 0.15);\n",
              "      fill: #174EA6;\n",
              "    }\n",
              "\n",
              "    [theme=dark] .colab-df-convert {\n",
              "      background-color: #3B4455;\n",
              "      fill: #D2E3FC;\n",
              "    }\n",
              "\n",
              "    [theme=dark] .colab-df-convert:hover {\n",
              "      background-color: #434B5C;\n",
              "      box-shadow: 0px 1px 3px 1px rgba(0, 0, 0, 0.15);\n",
              "      filter: drop-shadow(0px 1px 2px rgba(0, 0, 0, 0.3));\n",
              "      fill: #FFFFFF;\n",
              "    }\n",
              "  </style>\n",
              "\n",
              "      <script>\n",
              "        const buttonEl =\n",
              "          document.querySelector('#df-e04a95d7-8934-4782-9be1-e84901f18eca button.colab-df-convert');\n",
              "        buttonEl.style.display =\n",
              "          google.colab.kernel.accessAllowed ? 'block' : 'none';\n",
              "\n",
              "        async function convertToInteractive(key) {\n",
              "          const element = document.querySelector('#df-e04a95d7-8934-4782-9be1-e84901f18eca');\n",
              "          const dataTable =\n",
              "            await google.colab.kernel.invokeFunction('convertToInteractive',\n",
              "                                                     [key], {});\n",
              "          if (!dataTable) return;\n",
              "\n",
              "          const docLinkHtml = 'Like what you see? Visit the ' +\n",
              "            '<a target=\"_blank\" href=https://colab.research.google.com/notebooks/data_table.ipynb>data table notebook</a>'\n",
              "            + ' to learn more about interactive tables.';\n",
              "          element.innerHTML = '';\n",
              "          dataTable['output_type'] = 'display_data';\n",
              "          await google.colab.output.renderOutput(dataTable, element);\n",
              "          const docLink = document.createElement('div');\n",
              "          docLink.innerHTML = docLinkHtml;\n",
              "          element.appendChild(docLink);\n",
              "        }\n",
              "      </script>\n",
              "    </div>\n",
              "  </div>\n",
              "  "
            ]
          },
          "metadata": {},
          "execution_count": 45
        }
      ]
    },
    {
      "cell_type": "code",
      "source": [
        ""
      ],
      "metadata": {
        "id": "Z04PiRzYGCzH"
      },
      "execution_count": null,
      "outputs": []
    }
  ]
}
